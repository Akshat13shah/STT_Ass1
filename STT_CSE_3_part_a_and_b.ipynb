{
  "cells": [
    {
      "cell_type": "markdown",
      "metadata": {
        "id": "view-in-github",
        "colab_type": "text"
      },
      "source": [
        "<a href=\"https://colab.research.google.com/github/Akshat13shah/STT_Ass1/blob/main/STT_CSE_3_part_a_and_b.ipynb\" target=\"_parent\"><img src=\"https://colab.research.google.com/assets/colab-badge.svg\" alt=\"Open In Colab\"/></a>"
      ]
    },
    {
      "cell_type": "markdown",
      "source": [
        "Question part a and b"
      ],
      "metadata": {
        "id": "3yXNto8hRX-V"
      }
    },
    {
      "cell_type": "code",
      "execution_count": null,
      "metadata": {
        "colab": {
          "base_uri": "https://localhost:8080/"
        },
        "id": "k55inz3nlv2t",
        "outputId": "e2387ef0-aa7a-4e42-c2d7-01824134a170"
      },
      "outputs": [
        {
          "name": "stdout",
          "output_type": "stream",
          "text": [
            "Total number of commits: 2229\n",
            "Total number of files: 6100\n",
            "------------------------------\n",
            "Average number of modified files per commit: 2.74\n",
            "------------------------------\n",
            "Distribution of LLM Inference (Fix Type):\n",
            "Fix Type\n",
            "add missing docstring                         378\n",
            "add missing docstrings                        297\n",
            "add missing import                            238\n",
            "add test for                                  168\n",
            "add missing comments                          148\n",
            "                                             ... \n",
            "add docs for datasetview saving                 1\n",
            "add test for overwrite option in save_view      1\n",
            "add more api docs to deeplake backend           1\n",
            "fix error in dataset.js                         1\n",
            "add missing download                            1\n",
            "Name: count, Length: 3469, dtype: int64\n",
            "------------------------------\n",
            "Top 5 most frequently modified filenames:\n",
            "Filename\n",
            "dataset.py         589\n",
            "chunk_engine.py    166\n",
            "transform.py       158\n",
            "tensor.py          152\n",
            "test_api.py        146\n",
            "Name: count, dtype: int64\n",
            "\n",
            "------------------------------\n",
            "Top 5 most frequently modified file extensions:\n",
            "File Extension\n",
            "py     5376\n",
            "rst     203\n",
            "md      127\n",
            "txt     122\n",
            "yml      92\n",
            "Name: count, dtype: int64\n",
            "------------------------------\n"
          ]
        }
      ],
      "source": [
        "import pandas as pd\n",
        "from collections import Counter\n",
        "\n",
        "# Load the dataset\n",
        "df = pd.read_csv(\"/content/drive/MyDrive/STT_CSE/rectified_final.csv\")\n",
        "\n",
        "# 1. Total number of commits and files\n",
        "total_commits = df['Hash'].nunique()\n",
        "total_files = len(df)\n",
        "print(f\"Total number of commits: {total_commits}\")\n",
        "print(f\"Total number of files: {total_files}\")\n",
        "print(\"-\" * 30)\n",
        "\n",
        "# 2. Average number of modified files per commit\n",
        "files_per_commit = df.groupby('Hash')['Filename'].count()\n",
        "avg_files_per_commit = files_per_commit.mean()\n",
        "print(f\"Average number of modified files per commit: {avg_files_per_commit:.2f}\")\n",
        "print(\"-\" * 30)\n",
        "\n",
        "# 3. Distribution of fix types from LLM Inference (fix type)\n",
        "fix_type_counts = df['Fix Type'].value_counts()\n",
        "print(\"Distribution of LLM Inference (Fix Type):\")\n",
        "print(fix_type_counts)\n",
        "print(\"-\" * 30)\n",
        "\n",
        "# 4. Most frequently modified filenames/extensions\n",
        "# For filenames:\n",
        "most_common_files = df['Filename'].value_counts().head(5)\n",
        "print(\"Top 5 most frequently modified filenames:\")\n",
        "print(most_common_files)\n",
        "print(\"\\n\" + \"-\" * 30)\n",
        "\n",
        "# For extensions:\n",
        "df['File Extension'] = df['Filename'].apply(lambda x: x.split('.')[-1] if '.' in x else 'no_extension')\n",
        "extension_counts = df['File Extension'].value_counts().head(5)\n",
        "print(\"Top 5 most frequently modified file extensions:\")\n",
        "print(extension_counts)\n",
        "print(\"-\" * 30)"
      ]
    },
    {
      "cell_type": "code",
      "execution_count": null,
      "metadata": {
        "colab": {
          "base_uri": "https://localhost:8080/"
        },
        "id": "N_NrrRwOnD35",
        "outputId": "a4bef9b7-78a9-48c4-aaa5-509f5f9c68d7"
      },
      "outputs": [
        {
          "name": "stdout",
          "output_type": "stream",
          "text": [
            "Collecting radon\n",
            "  Downloading radon-6.0.1-py2.py3-none-any.whl.metadata (8.2 kB)\n",
            "Collecting mando<0.8,>=0.6 (from radon)\n",
            "  Downloading mando-0.7.1-py2.py3-none-any.whl.metadata (7.4 kB)\n",
            "Collecting colorama>=0.4.1 (from radon)\n",
            "  Downloading colorama-0.4.6-py2.py3-none-any.whl.metadata (17 kB)\n",
            "Requirement already satisfied: six in /usr/local/lib/python3.11/dist-packages (from mando<0.8,>=0.6->radon) (1.17.0)\n",
            "Downloading radon-6.0.1-py2.py3-none-any.whl (52 kB)\n",
            "\u001b[2K   \u001b[90m━━━━━━━━━━━━━━━━━━━━━━━━━━━━━━━━━━━━━━━━\u001b[0m \u001b[32m52.8/52.8 kB\u001b[0m \u001b[31m3.4 MB/s\u001b[0m eta \u001b[36m0:00:00\u001b[0m\n",
            "\u001b[?25hDownloading colorama-0.4.6-py2.py3-none-any.whl (25 kB)\n",
            "Downloading mando-0.7.1-py2.py3-none-any.whl (28 kB)\n",
            "Installing collected packages: mando, colorama, radon\n",
            "Successfully installed colorama-0.4.6 mando-0.7.1 radon-6.0.1\n"
          ]
        }
      ],
      "source": [
        "pip install radon"
      ]
    }
  ],
  "metadata": {
    "colab": {
      "provenance": [],
      "mount_file_id": "1rj1sR_Id6SHP2gRCuYKy_ZGU3jEs_nUi",
      "authorship_tag": "ABX9TyNaZ9L+nmDwyDZwWL73qU+Y",
      "include_colab_link": true
    },
    "kernelspec": {
      "display_name": "Python 3",
      "name": "python3"
    },
    "language_info": {
      "name": "python"
    }
  },
  "nbformat": 4,
  "nbformat_minor": 0
}